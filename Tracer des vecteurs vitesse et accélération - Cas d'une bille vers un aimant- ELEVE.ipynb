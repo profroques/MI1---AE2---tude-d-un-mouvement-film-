{
 "cells": [
  {
   "cell_type": "markdown",
   "metadata": {},
   "source": [
    "<div class=\"panel panel-primary\">\n",
    "    <div class=\"panel-heading\"><h2>Préambule :</h2></div>\n",
    "      <div class=\"panel-body\">\n",
    "Dans cette interface, vous allez découvrir des blocs de code qui composent un programme informatique complet.\n",
    "\n",
    "Afin de vous permettre de vous initier au codage et de vous faire participer à compléter ce programme informatique, le programme sera fragmenté par blocs. \n",
    "\n",
    "Ainsi, vous serez sollicité.e.s pour deux types d'action. <br>\n",
    "- un travail pour <i>exécuter</i> un bloc de programme informatique ;<br>\n",
    "- un travail pour <i>compléter</i> un bloc de programme informatique.<br>\n",
    "<br>\n",
    "Avant de commencer à découvrir le contenu du programme informatique proposé, je vous invite à prendre connaissance des différents types de consignes et des codes couleurs associés que vous allez rencontrer.\n",
    "      </div>\n",
    "</div>"
   ]
  },
  {
   "cell_type": "markdown",
   "metadata": {},
   "source": [
    "<div class=\"alert alert-info\" role=\"alert\">\n",
    "<b>Informations pour exécuter un bloc de programme informatique : </b> <br>\n",
    "<br><i>Avant</i> les blocs de programme qu'il faut simplément \"exécuter\", vous trouverez :<br>\n",
    "la consigne de travail sur un fond bleu avec une écriture en bleu foncé comme pour cette consigne.<br>\n",
    "\n",
    "Pour Exécuter le code dans un bloc de programme, il faut le sélectionner en cliquant sur la cellule du bloc, puis cliquer sur le bouton Run (ou Exécuter) <b>en haut de la page</b> ou bien en cliquant sur la flèche à côté de In (ou Entrée) si vous êtes sur tablettes ou smartphones.\n",
    "</div>"
   ]
  },
  {
   "cell_type": "markdown",
   "metadata": {},
   "source": [
    "<div class=\"alert alert-warning\">\n",
    "<b>Informations pour compléter un bloc de programme informatique: </b> <br>\n",
    "Certains blocs de codes doivent être complétés <span style='border:1px outset black'>avant</span> d'être exécutés afin de fonctionner convenablement.<br>\n",
    "<br><i>Avant</i> les blocs de programme qu'il faut \"compléter\", vous trouverez:\n",
    "<br> -la consigne de travail sur un fond jaune avec une écriture en brun - comme pour cette consigne.\n",
    "<br>-Dans le bloc de programme à compléter vous remplacerez la mention \"-----A COMPLETER-----\" par le code adapté.\n",
    "<br>-Dans certains cas, il est possible d'avoir des aides et/ou la solution.\n",
    "<br><b>ATTENTION : Une fois le programme complété, il faut alors exécuter le bloc de code correspondant.</b>\n",
    "</div>"
   ]
  },
  {
   "cell_type": "markdown",
   "metadata": {},
   "source": [
    "<h1> INTERFACE - Tracer des vecteurs vitesse et accélération - Cas d'une bille en déplacement proche d'un aimant - Term Spé PhyChim</h1>"
   ]
  },
  {
   "cell_type": "markdown",
   "metadata": {},
   "source": [
    "<div class=\"panel panel-default\">\n",
    "      <div class=\"panel-heading\"><h2>Tracer des vecteurs vitesse et accélération - Cas d'une bille en déplacement proche d'un aimant - Term Spé PhyChim</h2></div>\n",
    "       <div class=\"panel-body\">Tout d'abord, un rappel : ce programme a pour but de tracer les vecteurs vitesse et accélération d'une bille en mouvement proche d'un aimant dans le référentiel terrestre </div>\n",
    "<div class=\"panel-body\">           \n",
    "Dans cette interface, vous allez découvrir des blocs de code qui composent un programme informatique. Ce programme a pour but :</div>\n",
    "<div class=\"panel-body\">     \n",
    "1] de demander à l'opératrice ou à l'opérateur d'importer la librairie \"pyplot\" permettant de réaliser des tracés puis de créer les listes associés aux valeurs de \"t, x, y\" issues d'un pointage réalisé au préalable.\n",
    "    </div>\n",
    "<div class=\"panel-body\">     \n",
    "2] de demander à l'opératrice ou à l'opérateur de modifier un bloc de programme pour calculer les vitesses de la bille pour chaque position.\n",
    "    </div>\n",
    "<div class=\"panel-body\">     \n",
    "3] de modifier et d'exécuter un bloc permettant de tracer le vecteur vitesse de la bille pour chaque position.\n",
    "    </div>\n",
    "<div class=\"panel-body\">     \n",
    "4] de réaliser un raisonnement analogue pour tracer le vecteur accélération de la bille pour chaque position.\n",
    "    </div>\n",
    "\n",
    "<div class=\"panel-body\"> \n",
    "Afin de vous permettre de vous initier au codage et de vous faire participer pour compléter ce programme informatique, le programme sera donc fragmenté par bloc selon les modalités et consignes d'usages rappelées au début de cette page. \n",
    "    <br>"
   ]
  },
  {
   "cell_type": "markdown",
   "metadata": {},
   "source": [
    "<div class=\"alert alert-info\" role=\"alert\">\n",
    "<b>TRAVAIL À FAIRE POUR EXÉCUTER LE BLOC SUIVANT </b> <br>\n",
    "<br>\n",
    "    Le bloc de programme suivant d'importer la librairie pyplot qui permet de faire des tracés.\n",
    "    \n",
    "<br>\n",
    "<br>\n",
    "\n",
    "<br>\n",
    "<br>\n",
    "Exécuter le bloc en faisant un \"clic gauche\" sur ce bloc puis en choisissant \"Exécuter\" dans la barre d'outils.\n",
    "<br>\n",
    "<br>\n",
    "\n",
    "<br>\n",
    "<b>ATTENTION : Une fois le programme exécuté, saisir la valeur du pKa avec un point à la place de la virgule puis utiliser la touche Entrée pour valider la valeur.</b>\n",
    "</div>"
   ]
  },
  {
   "cell_type": "code",
   "execution_count": null,
   "metadata": {},
   "outputs": [],
   "source": [
    "import matplotlib.pyplot as plt ; "
   ]
  },
  {
   "cell_type": "markdown",
   "metadata": {},
   "source": [
    "<div class=\"alert alert-info\" role=\"alert\">\n",
    "<b>TRAVAIL À FAIRE POUR EXÉCUTER LE BLOC SUIVANT </b> <br>\n",
    "<br>\n",
    "    Dans le bloc suivant, les valeurs t, x, y issues du pointage réalisé au préalable ont été saisies. Il suffit d'exécuter le code du bloc pour que les listes correspondantes soient créées.\n",
    "    \n",
    "\n",
    "\n",
    "<br>\n",
    "</div>"
   ]
  },
  {
   "cell_type": "code",
   "execution_count": null,
   "metadata": {},
   "outputs": [],
   "source": [
    "t = [ 0, 0.04, 0.08, 0.12, 0.16, 0.2, 0.24, 0.28, 0.32, 0.36, 0.399999, 0.439999, 0.479998, 0.519997, 0.559997, 0.57]\n",
    "\n",
    "x = [0.000721893, 0.0155148, 0.0347456, 0.0575266, 0.0782367, 0.100426, 0.119953, 0.144509, 0.163444, 0.180604, 0.196876, 0.212852, 0.227645, 0.245988, 0.25871, 0.263444]\n",
    "\n",
    "y = [0.0993922, 0.0996881, 0.0996881, 0.0993922, 0.0982088, 0.0970253, 0.0970253, 0.0958419, 0.0908123, 0.078978, 0.0635934, 0.0490963, 0.0357827, 0.020694, 0.00590107, 0.00205492]\n"
   ]
  },
  {
   "cell_type": "markdown",
   "metadata": {},
   "source": [
    "<div class=\"alert alert-info\" role=\"alert\">\n",
    "<b>TRAVAIL À FAIRE POUR EXÉCUTER LE BLOC SUIVANT </b> <br>\n",
    "<br>\n",
    "    Le bloc de programme suivant de définir le nombre de positions repérées et de créer les limites minimales et maximales pour les ordonnées et les abscisses.\n",
    "    \n",
    "<br>\n",
    "<br>\n",
    "\n",
    "<br>\n",
    "<br>\n",
    "Exécuter le bloc en faisant un \"clic gauche\" sur ce bloc puis en choisissant \"Exécuter\" dans la barre d'outils.\n",
    "<br>\n",
    "\n",
    "</div>"
   ]
  },
  {
   "cell_type": "code",
   "execution_count": null,
   "metadata": {},
   "outputs": [],
   "source": [
    "dt=0.010\n",
    "n=len(t)\n",
    "min_x = min(x)\n",
    "max_x = max(x)\n",
    "min_y = min(y)\n",
    "max_y = max(y)"
   ]
  },
  {
   "cell_type": "markdown",
   "metadata": {},
   "source": [
    "<div class=\"alert alert-warning\">\n",
    "<b>TRAVAIL À FAIRE POUR COMPLÉTER LE BLOC SUIVANT </b> <br>\n",
    "<br>\n",
    "    Le bloc de programme suivant permet de calculer les coordonées vx et vy du vecteur vitesse pour chaque position de la Terre\n",
    "    \n",
    "<br>\n",
    "<br>\n",
    "\n",
    "<br>\n",
    "<br>\n",
    "Remplacer alors les mentions \"-----A COMPLETER-----\" par une expression adaptée.\n",
    "\n",
    "<br>\n",
    "<br>\n",
    "\n",
    "<br>\n",
    "<b>ATTENTION : Une fois le programme complété, il faut alors exécuter le bloc de code correspondant. Le programme est exécuté convenablement si les valeurs de vx, vy et de la vitesse s'affichent.</b>\n",
    "</div>"
   ]
  },
  {
   "cell_type": "markdown",
   "metadata": {},
   "source": [
    "<details>\n",
    "<summary>Aide</summary>\n",
    "<p>Vous devez compléter les lignes n°3, n°4 et n°5 en remplaçant la mention \"---A COMPLETER----\" par le calcul adapté. Ne pas oublier que pour calculer  le carré d'une valeur, il faut saisir valeur**2.</p>\n",
    "</details>\n",
    "\n",
    "<details>\n",
    "<summary>Solution</summary>\n",
    "<p>On modifie alors les mentions ---A COMPLETER----de la manière suivante : <br></p>\n",
    "    <p>vx.append((x[i+1]-x[i-1])/(2*dt))</p>\n",
    "    <p>vy.append((y[i+1]-y[i-1])/(2*dt))</p>\n",
    "<p>vitesse.append((vx[-1]**2+vy[-1]**2)**0.5)</p>\n",
    "</details>"
   ]
  },
  {
   "cell_type": "code",
   "execution_count": null,
   "metadata": {
    "scrolled": true
   },
   "outputs": [],
   "source": [
    "vx=[] ; vy=[] ; vitesse=[]\n",
    "for i in range(1,len(x)-1):\n",
    "    vx.append((-----A COMPLETER-----)\n",
    "    vy.append(-----A COMPLETER-----)\n",
    "    vitesse.append((vx[-1]**2+vy[-1]**2)**0.5)\n",
    "\n",
    "print(\"vitesse selon x\")\n",
    "print(vx)\n",
    "print(\"\")\n",
    "print(\"vitesse selon y\")\n",
    "print(vy)\n",
    "print(\"\")\n",
    "print(\"norme de la vitesse\")\n",
    "print(vitesse)"
   ]
  },
  {
   "cell_type": "markdown",
   "metadata": {},
   "source": [
    "<div class=\"alert alert-info\" role=\"alert\">\n",
    "<b>TRAVAIL À FAIRE POUR EXÉCUTER LE BLOC SUIVANT </b> <br>\n",
    "<br>\n",
    "    Le bloc de programme suivant permet de tracer le vecteur vitesse pour chaque position de la Terre\n",
    "    \n",
    "\n",
    "\n",
    "<br>\n",
    "<b>ATTENTION : Une fois le programme complété, il faut alors exécuter le bloc de code correspondant. Le programme est exécuté convenablement si le vecteur vitesse est tracé pour chaque position.</b>\n",
    "</div>"
   ]
  },
  {
   "cell_type": "code",
   "execution_count": null,
   "metadata": {},
   "outputs": [],
   "source": [
    "axes = plt.gca()\n",
    "plt.axis('equal')\n",
    "plt.title(\"trajectoire de la Terre par rapport au Soleil/vecteur vitesse\")\n",
    "axes.set_xlim(min_x, max_x)\n",
    "axes.set_ylim(min_y, max_y)\n",
    "plt.plot(x, y, \"+\")\n",
    "for i in range(1,n-1):\n",
    "    plt.quiver(x[i], y[i], vx[i-1], vy[i-1], angles='xy', color=\"green\")\n",
    "\n",
    "plt.show()\n",
    "plt.close()"
   ]
  },
  {
   "cell_type": "markdown",
   "metadata": {},
   "source": [
    "<div class=\"alert alert-warning\">\n",
    "<b>TRAVAIL À FAIRE POUR COMPLÉTER LE BLOC SUIVANT </b> <br>\n",
    "<br>\n",
    "    Le bloc de programme suivant permet de calculer les coordonées ax et ay du vecteur accélération pour chaque position de la Terre\n",
    "    \n",
    "<br>\n",
    "<br>\n",
    "\n",
    "<br>\n",
    "<br>\n",
    "Remplacer alors les mentions \"-----A COMPLETER-----\" par une expression adaptée.\n",
    "\n",
    "<br>\n",
    "<br>\n",
    "\n",
    "<br>\n",
    "<b>ATTENTION : Une fois le programme complété, il faut alors exécuter le bloc de code correspondant. Le programme est exécuté convenablement si le vecteur accélération est tracé pour chaque position.</b>\n",
    "</div>"
   ]
  },
  {
   "cell_type": "markdown",
   "metadata": {},
   "source": [
    "<details>\n",
    "<summary>Aide</summary>\n",
    "<p>Vous devez compléter les lignes n°3, n°4 et n°5 en remplaçant la mention \"---A COMPLETER----\" par le calcul adapté. Ne pas oublier que pour calculer  le carré d'une valeur, il faut saisir valeur**2.</p>\n",
    "</details>\n",
    "\n",
    "<details>\n",
    "<summary>Solution</summary>\n",
    "<p>On modifie alors les mentions ---A COMPLETER----de la manière suivante : <br></p>\n",
    "    <p>ax.append((vx[i+1]-vx[i-1])/(2*dt))</p>\n",
    "    <p>ay.append((vy[i+1]-vy[i-1])/(2*dt))</p>\n",
    "<p>vitesse.append((ax[-1]**2+ay[-1]**2)**0.5)</p>\n",
    "</details>"
   ]
  },
  {
   "cell_type": "code",
   "execution_count": null,
   "metadata": {},
   "outputs": [],
   "source": [
    "ax=[] ; ay=[]  ; acceleration=[]\n",
    "for i in range(1,len(vx)-1):\n",
    "    ax.-----A COMPLETER-----\n",
    "    ay.-----A COMPLETER-----\n",
    "    acceleration.append((ax[-1]**2+ay[-1]**2)**0.5)\n",
    "\n",
    "axes = plt.gca()\n",
    "plt.axis('equal')\n",
    "plt.title(\"trajectoire de bille dans le référentiel terrestre\")\n",
    "axes.set_xlim(min_x, max_x)\n",
    "axes.set_ylim(min_y, max_y)\n",
    "\n",
    "plt.plot(x, y, \"+\")\n",
    "for i in range(1,n-1):\n",
    "    plt.quiver(x[i], y[i], vx[i-1], vy[i-1], angles='xy', color=\"green\")\n",
    "for i in range(2,n-2):\n",
    "    plt.quiver(x[i], y[i], ax[i-2], ay[i-2], angles='xy',color=\"blue\")\n",
    "\n",
    "plt.show()\n",
    "plt.close()"
   ]
  },
  {
   "cell_type": "code",
   "execution_count": null,
   "metadata": {},
   "outputs": [],
   "source": []
  }
 ],
 "metadata": {
  "kernelspec": {
   "display_name": "Python 3",
   "language": "python",
   "name": "python3"
  },
  "language_info": {
   "codemirror_mode": {
    "name": "ipython",
    "version": 3
   },
   "file_extension": ".py",
   "mimetype": "text/x-python",
   "name": "python",
   "nbconvert_exporter": "python",
   "pygments_lexer": "ipython3",
   "version": "3.7.4"
  }
 },
 "nbformat": 4,
 "nbformat_minor": 2
}
